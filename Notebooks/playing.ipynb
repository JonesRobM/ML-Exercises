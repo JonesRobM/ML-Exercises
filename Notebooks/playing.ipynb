{
 "cells": [
  {
   "cell_type": "code",
   "execution_count": null,
   "id": "e2556354",
   "metadata": {},
   "outputs": [],
   "source": [
    "import numpy as np\n",
    "import pandas as pd\n",
    "import matplotlib.pyplot as plt\n",
    "\n",
    "# 5-year parameters\n",
    "months = 60\n",
    "months_range = np.arange(1, months+1)\n",
    "\n",
    "# Income projection: 15-30% increase over 5 years\n",
    "income_start = 3200\n",
    "income_end_low = 3680\n",
    "income_end_high = 4160\n",
    "\n",
    "income_projection_low = np.linspace(income_start, income_end_low, months)\n",
    "income_projection_high = np.linspace(income_start, income_end_high, months)\n",
    "\n",
    "# Initialize goals and monthly allocations\n",
    "allocations = pd.DataFrame(index=months_range, columns=['House Deposit','Marriage Fund','Family Fund','Emergency Fund','Investments'])\n",
    "\n",
    "# Months 1-36: House deposit priority, emergency fund maintained, investments continue\n",
    "for m in months_range:\n",
    "    if m <=36:\n",
    "        allocations.loc[m] = [1450, 0, 0, 100, 0]\n",
    "    else:\n",
    "        # After house deposit, allocate to marriage/family, emergency fund, and investments\n",
    "        allocations.loc[m] = [0, 450, 350, 100, 500]\n",
    "\n",
    "# Compute cumulative balances for each goal\n",
    "cumulative_balances = allocations.cumsum()\n",
    "\n",
    "# Plot cumulative balances for base scenario\n",
    "plt.figure(figsize=(12,7))\n",
    "for col in cumulative_balances.columns:\n",
    "    plt.plot(months_range, cumulative_balances[col], label=col)\n",
    "\n",
    "plt.title('Projected 5-Year Savings & Investment Plan')\n",
    "plt.xlabel('Month')\n",
    "plt.ylabel('Cumulative Balance (£)')\n",
    "plt.axhline(y=70000, color='r', linestyle='--', label='House Deposit Target')\n",
    "plt.legend()\n",
    "plt.grid(True)\n",
    "plt.tight_layout()\n",
    "plt.show()\n",
    "\n",
    "# Create DataFrame for export\n",
    "cumulative_balances['Month'] = months_range\n",
    "cumulative_balances = cumulative_balances[['Month'] + [col for col in cumulative_balances.columns if col != 'Month']]\n",
    "cumulative_balances\n"
   ]
  }
 ],
 "metadata": {
  "kernelspec": {
   "display_name": "CompEnv",
   "language": "python",
   "name": "python3"
  },
  "language_info": {
   "codemirror_mode": {
    "name": "ipython",
    "version": 3
   },
   "file_extension": ".py",
   "mimetype": "text/x-python",
   "name": "python",
   "nbconvert_exporter": "python",
   "pygments_lexer": "ipython3",
   "version": "3.11.5"
  }
 },
 "nbformat": 4,
 "nbformat_minor": 5
}
