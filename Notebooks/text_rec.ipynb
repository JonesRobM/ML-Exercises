{
 "cells": [
  {
   "cell_type": "code",
   "execution_count": null,
   "id": "211c87fe",
   "metadata": {},
   "outputs": [],
   "source": [
    "# trocr_inference_visual.py\n",
    "import torch\n",
    "from pathlib import Path\n",
    "from transformers import TrOCRProcessor, VisionEncoderDecoderModel\n",
    "from PIL import Image\n",
    "import pandas as pd\n",
    "import matplotlib.pyplot as plt\n",
    "\n",
    "# 1. Load pretrained model\n",
    "model_name = \"microsoft/trocr-base-handwritten\"\n",
    "processor = TrOCRProcessor.from_pretrained(model_name)\n",
    "model = VisionEncoderDecoderModel.from_pretrained(model_name)\n",
    "\n",
    "# 2. Use GPU if available\n",
    "device = \"cuda\" if torch.cuda.is_available() else \"cpu\"\n",
    "model.to(device)\n",
    "\n",
    "def ocr_images(image_paths, max_length=128):\n",
    "    results = []\n",
    "    for img_path in image_paths:\n",
    "        # Load + preprocess\n",
    "        image = Image.open(img_path).convert(\"RGB\")\n",
    "        pixel_values = processor(images=image, return_tensors=\"pt\").pixel_values.to(device)\n",
    "\n",
    "        # Inference\n",
    "        generated_ids = model.generate(\n",
    "            pixel_values,\n",
    "            max_length=max_length,\n",
    "            num_beams=4,\n",
    "        )\n",
    "        text = processor.batch_decode(generated_ids, skip_special_tokens=True)[0]\n",
    "\n",
    "        # Console log\n",
    "        print(f\"[{img_path}] -> {text}\")\n",
    "\n",
    "        # Display image with prediction\n",
    "        plt.imshow(image)\n",
    "        plt.axis(\"off\")\n",
    "        plt.title(text)\n",
    "        plt.show()\n",
    "\n",
    "        results.append({\"image_path\": str(img_path), \"prediction\": text})\n",
    "    return results"
   ]
  },
  {
   "cell_type": "code",
   "execution_count": null,
   "id": "331839e0",
   "metadata": {},
   "outputs": [],
   "source": [
    "if __name__ == \"__main__\":\n",
    "    # 3. Collect all PNG/JPEGs in folder\n",
    "    image_dir = Path(\"handwriting_samples\")  # put your images here\n",
    "    image_paths = sorted(list(image_dir.glob(\"*.png\")) + list(image_dir.glob(\"*.jpg\")))\n",
    "\n",
    "    if not image_paths:\n",
    "        print(\"No images found in handwriting_samples/\")\n",
    "    else:\n",
    "        # 4. Run OCR\n",
    "        preds = ocr_images(image_paths, max_length=256)\n",
    "\n",
    "        # 5. Save to CSV\n",
    "        df = pd.DataFrame(preds)\n",
    "        df.to_csv(\"trocr_predictions.csv\", index=False)\n",
    "        print(\"\\nSaved predictions to trocr_predictions.csv\")"
   ]
  }
 ],
 "metadata": {
  "kernelspec": {
   "display_name": "CompEnv",
   "language": "python",
   "name": "python3"
  },
  "language_info": {
   "codemirror_mode": {
    "name": "ipython",
    "version": 3
   },
   "file_extension": ".py",
   "mimetype": "text/x-python",
   "name": "python",
   "nbconvert_exporter": "python",
   "pygments_lexer": "ipython3",
   "version": "3.11.5"
  }
 },
 "nbformat": 4,
 "nbformat_minor": 5
}
