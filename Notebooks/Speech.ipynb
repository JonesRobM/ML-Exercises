{
 "cells": [
  {
   "cell_type": "code",
   "execution_count": null,
   "id": "ed04fee6",
   "metadata": {},
   "outputs": [],
   "source": [
    "pip install SpeechRecognition pydub"
   ]
  },
  {
   "cell_type": "code",
   "execution_count": null,
   "id": "7a181c28",
   "metadata": {},
   "outputs": [],
   "source": [
    "pip install openai-whisper\n"
   ]
  },
  {
   "cell_type": "code",
   "execution_count": null,
   "id": "1d85a502",
   "metadata": {},
   "outputs": [],
   "source": [
    "import whisper\n",
    "\n",
    "model = whisper.load_model(\"small\")  # or \"base\", \"medium\"\n",
    "result = model.transcribe(\"Recording.m4a\")\n",
    "print(result[\"text\"])"
   ]
  },
  {
   "cell_type": "code",
   "execution_count": null,
   "id": "313a0cbc",
   "metadata": {},
   "outputs": [],
   "source": [
    "import os\n",
    "import re\n",
    "import torch\n",
    "import whisper\n",
    "from transformers import pipeline"
   ]
  },
  {
   "cell_type": "code",
   "execution_count": null,
   "id": "2cb9486f",
   "metadata": {},
   "outputs": [],
   "source": [
    "# Force GPU if available\n",
    "DEVICE = \"cuda\" if torch.cuda.is_available() else \"cpu\"\n",
    "\n",
    "# Load summariser and sentiment analyser\n",
    "summariser = pipeline(\n",
    "    \"summarization\",\n",
    "    model=\"facebook/bart-large-cnn\",\n",
    "    device=0 if DEVICE == \"cuda\" else -1\n",
    ")\n",
    "sentiment_analyser = pipeline(\n",
    "    \"sentiment-analysis\",\n",
    "    model=\"distilbert-base-uncased-finetuned-sst-2-english\",\n",
    "    device=0 if DEVICE == \"cuda\" else -1\n",
    ")"
   ]
  },
  {
   "cell_type": "code",
   "execution_count": null,
   "id": "234dccd9",
   "metadata": {},
   "outputs": [],
   "source": [
    "def safe_filename(text: str, max_len: int = 50) -> str:\n",
    "    \"\"\"\n",
    "    Convert summary text into a safe filename.\n",
    "    Keep alphanumeric and underscores, truncate length.\n",
    "    \"\"\"\n",
    "    raw = \"_\".join(text.strip().split())\n",
    "    safe = re.sub(r'[^A-Za-z0-9_]+', '', raw)\n",
    "    return (safe[:max_len] or \"transcription\").lower()\n",
    "\n",
    "def truncate_text_for_model(text: str, max_chars: int) -> str:\n",
    "    \"\"\"\n",
    "    Truncate text to roughly max_chars characters for safe model input.\n",
    "    \"\"\"\n",
    "    return text[:max_chars]\n",
    "\n",
    "def main(in_path):\n",
    "    audio_path = in_path\n",
    "\n",
    "    # Load Whisper model on GPU\n",
    "    model = whisper.load_model(\"small\", device=DEVICE)\n",
    "\n",
    "    # Transcribe\n",
    "    print(f\"Transcribing {audio_path} on {DEVICE}...\")\n",
    "    result = model.transcribe(audio_path)\n",
    "    transcript_text = result[\"text\"]\n",
    "\n",
    "    summary_text_input = truncate_text_for_model(transcript_text, max_chars=4000)\n",
    "\n",
    "\n",
    "    # Concise summary (shorter max_length)\n",
    "    summary = summariser(\n",
    "        summary_text_input,\n",
    "        max_length=15,\n",
    "        min_length=5,\n",
    "        do_sample=False\n",
    "    )[0][\"summary_text\"]\n",
    "    print(f\"Summary: {summary}\")\n",
    "\n",
    "    # Sentiment analysis\n",
    "    sentiment_result = sentiment_analyser(transcript_text[512:2*512])[0]  # limit to first 512 tokens\n",
    "    sentiment = f\"{sentiment_result['label']} ({sentiment_result['score']:.2f})\"\n",
    "    print(f\"Sentiment: {sentiment}\")\n",
    "\n",
    "    # Build output filename from summary\n",
    "    base_dir = os.path.dirname(audio_path) or \".\"\n",
    "    fname = safe_filename(summary)\n",
    "    output_path = os.path.join(base_dir, f\"{fname}.txt\")\n",
    "\n",
    "    # Save summary, sentiment, and transcription\n",
    "    with open(output_path, \"w\", encoding=\"utf-8\") as f:\n",
    "        f.write(\"=== SUMMARY ===\\n\")\n",
    "        f.write(summary + \"\\n\\n\")\n",
    "        f.write(\"=== SENTIMENT ===\\n\")\n",
    "        f.write(sentiment + \"\\n\\n\")\n",
    "        f.write(\"=== TRANSCRIPT ===\\n\")\n",
    "        f.write(transcript_text)\n",
    "\n",
    "    print(f\"Transcription, summary, and sentiment saved to {output_path}\")"
   ]
  },
  {
   "cell_type": "code",
   "execution_count": null,
   "id": "f4069367",
   "metadata": {},
   "outputs": [],
   "source": [
    "if __name__ == \"__main__\":\n",
    "    for i in range(19,43):\n",
    "        main(f\"Recording ({i}).m4a\")"
   ]
  },
  {
   "cell_type": "code",
   "execution_count": null,
   "id": "587edac0",
   "metadata": {},
   "outputs": [],
   "source": [
    "conda install -c conda-forge ffmpeg"
   ]
  }
 ],
 "metadata": {
  "kernelspec": {
   "display_name": "CompEnv",
   "language": "python",
   "name": "python3"
  },
  "language_info": {
   "codemirror_mode": {
    "name": "ipython",
    "version": 3
   },
   "file_extension": ".py",
   "mimetype": "text/x-python",
   "name": "python",
   "nbconvert_exporter": "python",
   "pygments_lexer": "ipython3",
   "version": "3.11.5"
  }
 },
 "nbformat": 4,
 "nbformat_minor": 5
}
