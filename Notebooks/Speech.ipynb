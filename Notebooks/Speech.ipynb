{
 "cells": [
  {
   "cell_type": "code",
   "execution_count": null,
   "id": "ed04fee6",
   "metadata": {},
   "outputs": [],
   "source": [
    "pip install SpeechRecognition pydub"
   ]
  },
  {
   "cell_type": "code",
   "execution_count": null,
   "id": "7a181c28",
   "metadata": {},
   "outputs": [],
   "source": [
    "pip install openai-whisper\n"
   ]
  },
  {
   "cell_type": "code",
   "execution_count": null,
   "id": "1d85a502",
   "metadata": {},
   "outputs": [],
   "source": [
    "import whisper\n",
    "\n",
    "model = whisper.load_model(\"small\")  # or \"base\", \"medium\"\n",
    "result = model.transcribe(\"Recording.m4a\")\n",
    "print(result[\"text\"])"
   ]
  },
  {
   "cell_type": "code",
   "execution_count": null,
   "id": "313a0cbc",
   "metadata": {},
   "outputs": [],
   "source": [
    "import os\n",
    "import re\n",
    "import torch\n",
    "import whisper\n",
    "from transformers import pipeline\n",
    "from transformers import AutoTokenizer"
   ]
  },
  {
   "cell_type": "code",
   "execution_count": null,
   "id": "2cb9486f",
   "metadata": {},
   "outputs": [],
   "source": [
    "# Force GPU if available\n",
    "DEVICE = \"cuda\" if torch.cuda.is_available() else \"cpu\"\n",
    "\n",
    "# Load summariser and sentiment analyser\n",
    "summariser = pipeline(\n",
    "    \"summarization\",\n",
    "    model=\"facebook/bart-large-cnn\",\n",
    "    device=0 if DEVICE == \"cuda\" else -1\n",
    ")\n",
    "sentiment_analyser = pipeline(\n",
    "    \"sentiment-analysis\",\n",
    "    model=\"distilbert-base-uncased-finetuned-sst-2-english\",\n",
    "    device=0 if DEVICE == \"cuda\" else -1\n",
    ")\n",
    "\n",
    "# Load tokenizer for precise truncation\n",
    "sentiment_tokenizer = AutoTokenizer.from_pretrained(\n",
    "    \"distilbert-base-uncased-finetuned-sst-2-english\"\n",
    ")"
   ]
  },
  {
   "cell_type": "code",
   "execution_count": null,
   "id": "234dccd9",
   "metadata": {},
   "outputs": [],
   "source": [
    "def safe_filename(text: str, max_len: int = 50) -> str:\n",
    "    raw = \"_\".join(text.strip().split())\n",
    "    safe = re.sub(r'[^A-Za-z0-9_]+', '', raw)\n",
    "    return (safe[:max_len] or \"transcription\").lower()\n",
    "\n",
    "def truncate_for_sentiment(text: str, max_tokens: int = 512) -> str:\n",
    "    tokens = sentiment_tokenizer.encode(text, truncation=True, max_length=max_tokens)\n",
    "    return sentiment_tokenizer.decode(tokens, skip_special_tokens=True)\n",
    "\n",
    "def chunk_text(text: str, max_chars: int) -> list[str]:\n",
    "    \"\"\"\n",
    "    Split text into chunks of max_chars length without cutting mid-word.\n",
    "    \"\"\"\n",
    "    words = text.split()\n",
    "    chunks, current = [], \"\"\n",
    "    for w in words:\n",
    "        if len(current) + len(w) + 1 > max_chars:\n",
    "            chunks.append(current.strip())\n",
    "            current = w\n",
    "        else:\n",
    "            current += \" \" + w\n",
    "    if current:\n",
    "        chunks.append(current.strip())\n",
    "    return chunks\n",
    "\n",
    "def main(in_path):\n",
    "    audio_path = in_path\n",
    "\n",
    "    model = whisper.load_model(\"small\", device=DEVICE)\n",
    "    print(f\"Transcribing {audio_path} on {DEVICE}...\")\n",
    "    result = model.transcribe(audio_path)\n",
    "    transcript_text = result[\"text\"]\n",
    "\n",
    "    # === SUMMARISATION (chunked) ===\n",
    "    transcript_chunks = chunk_text(transcript_text, max_chars=4000)\n",
    "    chunk_summaries = []\n",
    "    for i, chunk in enumerate(transcript_chunks, 1):\n",
    "        s = summariser(chunk, max_length=40, min_length=10, do_sample=False)[0][\"summary_text\"]\n",
    "        chunk_summaries.append(s)\n",
    "        print(f\"Chunk {i} summary: {s}\")\n",
    "\n",
    "    # Meta-summary\n",
    "    summary_input = \" \".join(chunk_summaries)\n",
    "    final_summary = summariser(summary_input, max_length=50, min_length=15, do_sample=False)[0][\"summary_text\"]\n",
    "    print(f\"Final Summary: {final_summary}\")\n",
    "\n",
    "    # === SENTIMENT (chunked + truncation) ===\n",
    "    sentiment_chunks = chunk_text(transcript_text, max_chars=2000)\n",
    "    chunk_sentiments = []\n",
    "    sentiment_scores = []\n",
    "\n",
    "    for i, chunk in enumerate(sentiment_chunks, 1):\n",
    "        truncated = truncate_for_sentiment(chunk)\n",
    "        result = sentiment_analyser(truncated)[0]\n",
    "        score = result[\"score\"] if result[\"label\"] == \"POSITIVE\" else -result[\"score\"]\n",
    "        sentiment_scores.append(score)\n",
    "        chunk_sentiments.append(f\"Chunk {i}: {result['label']} ({result['score']:.2f})\")\n",
    "\n",
    "    avg_sentiment = sum(sentiment_scores) / len(sentiment_scores)\n",
    "    sentiment_label = \"POSITIVE\" if avg_sentiment > 0 else \"NEGATIVE\"\n",
    "    sentiment = f\"{sentiment_label} ({abs(avg_sentiment):.2f})\"\n",
    "    print(f\"Overall Sentiment: {sentiment}\")\n",
    "\n",
    "    # === SAVE OUTPUT ===\n",
    "    base_dir = os.path.dirname(audio_path) or \".\"\n",
    "    fname = safe_filename(final_summary)\n",
    "    output_path = os.path.join(base_dir, f\"{fname}.txt\")\n",
    "\n",
    "    with open(output_path, \"w\", encoding=\"utf-8\") as f:\n",
    "        f.write(\"=== SUMMARY ===\\n\")\n",
    "        f.write(final_summary + \"\\n\\n\")\n",
    "        f.write(\"=== CHUNK SUMMARIES ===\\n\")\n",
    "        f.write(\"\\n\".join(chunk_summaries) + \"\\n\\n\")\n",
    "        f.write(\"=== SENTIMENT (Overall) ===\\n\")\n",
    "        f.write(sentiment + \"\\n\\n\")\n",
    "        f.write(\"=== SENTIMENT (Per Chunk) ===\\n\")\n",
    "        f.write(\"\\n\".join(chunk_sentiments) + \"\\n\\n\")\n",
    "        f.write(\"=== TRANSCRIPT ===\\n\")\n",
    "        f.write(transcript_text)\n",
    "\n",
    "    print(f\"Transcription, summary, and sentiment saved to {output_path}\")"
   ]
  },
  {
   "cell_type": "code",
   "execution_count": null,
   "id": "f4069367",
   "metadata": {},
   "outputs": [],
   "source": [
    "if __name__ == \"__main__\":\n",
    "    for i in range(7,79):\n",
    "        main(f\"Recordings/Recording ({i}).m4a\")"
   ]
  },
  {
   "cell_type": "code",
   "execution_count": null,
   "id": "d58d6b37",
   "metadata": {},
   "outputs": [],
   "source": [
    "if __name__ == \"__main__\":\n",
    "    main(f\"Recordings/Recording.wav\")"
   ]
  },
  {
   "cell_type": "code",
   "execution_count": null,
   "id": "587edac0",
   "metadata": {},
   "outputs": [],
   "source": [
    "conda install -c conda-forge ffmpeg"
   ]
  }
 ],
 "metadata": {
  "kernelspec": {
   "display_name": "CompEnv",
   "language": "python",
   "name": "python3"
  },
  "language_info": {
   "codemirror_mode": {
    "name": "ipython",
    "version": 3
   },
   "file_extension": ".py",
   "mimetype": "text/x-python",
   "name": "python",
   "nbconvert_exporter": "python",
   "pygments_lexer": "ipython3",
   "version": "3.11.5"
  }
 },
 "nbformat": 4,
 "nbformat_minor": 5
}
